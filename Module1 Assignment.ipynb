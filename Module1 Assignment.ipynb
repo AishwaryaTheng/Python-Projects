{
 "cells": [
  {
   "cell_type": "markdown",
   "id": "5e28117e",
   "metadata": {},
   "source": [
    "\n",
    "# Module 1 - Getting Started With Python - ASSIGNMENTS\n",
    "NAME :SUGANYA G\n",
    "BATCH:Python BC = 232511\n",
    "SUBMISSION DATE :10-12-2023\n"
   ]
  },
  {
   "cell_type": "markdown",
   "id": "823e42eb",
   "metadata": {},
   "source": [
    "### Assignment 1 :"
   ]
  },
  {
   "cell_type": "code",
   "execution_count": 1,
   "id": "d9b3715d",
   "metadata": {},
   "outputs": [
    {
     "name": "stdout",
     "output_type": "stream",
     "text": [
      "b is greater\n"
     ]
    }
   ],
   "source": [
    "\n",
    "##Input the values of a and b as 10 and 20 respectively. \n",
    "##Now check if a is greater or b is greater using if condition. \n",
    "##Think about all the edge cases,and print the statements accordingly.\n",
    "\n",
    "a=10\n",
    "b=20\n",
    "if a>b:\n",
    "    print('a is greater')\n",
    "elif b>a:\n",
    "    print('b is greater')\n",
    "else:\n",
    "    print('Both are same')\n",
    "    \n",
    "    \n",
    "\n"
   ]
  },
  {
   "cell_type": "markdown",
   "id": "56a7617e",
   "metadata": {},
   "source": [
    "## Assignment 2 :"
   ]
  },
  {
   "cell_type": "code",
   "execution_count": 2,
   "id": "7765460d",
   "metadata": {},
   "outputs": [
    {
     "name": "stdout",
     "output_type": "stream",
     "text": [
      "Enter first number25\n",
      "Enter second number35\n",
      "Enter third number41\n",
      "41 is the biggest\n"
     ]
    }
   ],
   "source": [
    "## Take three user inputs and print the greatest number from those inputs\n",
    "## using if-else condition. Edge cases, if any, should also be\n",
    "x = int(input(\"Enter first number\"))\n",
    "y = int(input(\"Enter second number\"))\n",
    "z = int(input(\"Enter third number\"))\n",
    "if x>=y and x>=z:\n",
    "\tprint(x,\"is the biggest\")\n",
    "elif y>=z and y>=x:\n",
    "\tprint(y,\"is the biggest\")\n",
    "else:\n",
    "\tprint(z,\"is the biggest\")"
   ]
  },
  {
   "cell_type": "markdown",
   "id": "7705a3af",
   "metadata": {},
   "source": [
    "## Assignment 3 :"
   ]
  },
  {
   "cell_type": "code",
   "execution_count": 3,
   "id": "ba203809",
   "metadata": {},
   "outputs": [
    {
     "name": "stdout",
     "output_type": "stream",
     "text": [
      "1\n",
      "2\n",
      "3\n",
      "4\n",
      "5\n",
      "6\n",
      "7\n",
      "8\n",
      "9\n",
      "10\n",
      "11\n"
     ]
    }
   ],
   "source": [
    "##Assignment 3 :\n",
    "##Print the numbers from 1 to 10 using while loop\n",
    "i = 0\n",
    "while(i<=10):\n",
    "      i += 1\n",
    "      print(i)  "
   ]
  },
  {
   "cell_type": "markdown",
   "id": "19e8b74d",
   "metadata": {},
   "source": [
    "## Assignment 4 :"
   ]
  },
  {
   "cell_type": "code",
   "execution_count": 10,
   "id": "d2854c71",
   "metadata": {
    "scrolled": true
   },
   "outputs": [
    {
     "name": "stdout",
     "output_type": "stream",
     "text": [
      "10\n",
      "4\n",
      "26\n",
      "4\n",
      "24\n",
      "54\n"
     ]
    }
   ],
   "source": [
    "\n",
    "##Create a list that has 10, 23, 4, 26, 4, 75, 24, 54 values and with the help\n",
    "##of while loop fetch the even numbers and print the numbers\n",
    "list1 = [10, 23, 4, 26, 4, 75, 24, 54]\n",
    "num=0\n",
    "while(num < len(list1)):\n",
    " \tif list1[num] % 2 == 0:\n",
    " \t    print(list1[num])\n",
    " \tnum += 1"
   ]
  },
  {
   "cell_type": "markdown",
   "id": "cc2af566",
   "metadata": {},
   "source": [
    "## Assignment 5"
   ]
  },
  {
   "cell_type": "code",
   "execution_count": 33,
   "id": "a53221fc",
   "metadata": {},
   "outputs": [
    {
     "name": "stdout",
     "output_type": "stream",
     "text": [
      "Enter the start of range: 20\n",
      "Enter the end of range: 50\n",
      "23\n",
      "29\n",
      "31\n",
      "37\n",
      "41\n",
      "43\n",
      "47\n"
     ]
    }
   ],
   "source": [
    "\n",
    ":##Create an array that has user defined inputs and with the help of for loop,\n",
    "##fetch all the prime numbers and print the numbers\n",
    "start = int(input(\"Enter the start of range: \"))\n",
    "end = int(input(\"Enter the end of range: \"))\n",
    "\n",
    "for num in range(start, end + 1):\n",
    "   if num > 1:\n",
    "       for i in range(2, int(num**0.5) + 1):\n",
    "           if (num % i) == 0:\n",
    "               break\n",
    "       else:\n",
    "           print(num)"
   ]
  },
  {
   "cell_type": "code",
   "execution_count": null,
   "id": "8f9c64f1",
   "metadata": {},
   "outputs": [],
   "source": []
  }
 ],
 "metadata": {
  "kernelspec": {
   "display_name": "Python 3 (ipykernel)",
   "language": "python",
   "name": "python3"
  },
  "language_info": {
   "codemirror_mode": {
    "name": "ipython",
    "version": 3
   },
   "file_extension": ".py",
   "mimetype": "text/x-python",
   "name": "python",
   "nbconvert_exporter": "python",
   "pygments_lexer": "ipython3",
   "version": "3.11.4"
  }
 },
 "nbformat": 4,
 "nbformat_minor": 5
}
