{
 "cells": [
  {
   "cell_type": "markdown",
   "id": "2bfc2fc3",
   "metadata": {},
   "source": [
    "# Module 4 "
   ]
  },
  {
   "cell_type": "markdown",
   "id": "e4cf0f98",
   "metadata": {},
   "source": [
    "## Assignment1"
   ]
  },
  {
   "cell_type": "markdown",
   "id": "17fe3489",
   "metadata": {},
   "source": [
    "### 1. Create a list named ‘myList’ that has the following elements: 10, 20, 30,‘apple’, True, 8.10:\n",
    "### a. Now in the ‘myList’, append these values: 30, 40\n",
    "#### b. After that, reverse the elements of the ‘myList’ and store that in ‘reversedList’\n"
   ]
  },
  {
   "cell_type": "code",
   "execution_count": 2,
   "id": "a0410833",
   "metadata": {},
   "outputs": [
    {
     "name": "stdout",
     "output_type": "stream",
     "text": [
      "[10, 20, 30, 'apple', True, 8.1, 30, 40]\n",
      "[40, 30, 8.1, True, 'apple', 30, 20, 10]\n"
     ]
    }
   ],
   "source": [
    "myList = [10, 20, 30, 'apple', True, 8.10]\n",
    "\n",
    "# a. Append these values: 30, 40\n",
    "myList.append(30)\n",
    "myList.append(40)\n",
    "\n",
    "# b. Reverse the elements of 'myList' and store that in 'reversedList'\n",
    "reversedList = myList[::-1]\n",
    "\n",
    "print(myList)\n",
    "print(reversedList)"
   ]
  },
  {
   "cell_type": "markdown",
   "id": "53ee6583",
   "metadata": {},
   "source": [
    "### 2. Create a dictionary with key values as 1, 2, 3 and the values as ‘data’,‘information’ and ‘text’:\n",
    "#### a. After that, eliminate the ‘text’ value from the dictionary\n",
    "#### b. Add ‘features’ in the dictionary\n",
    "#### c. Fetch the ‘data’ element from the dictionary and display it in the output\n"
   ]
  },
  {
   "cell_type": "code",
   "execution_count": null,
   "id": "5ebd9c39",
   "metadata": {},
   "outputs": [],
   "source": [
    "myDict = {1: 'data', 2: 'information', 3: 'text'}\n",
    "\n",
    "# a. Eliminate the 'text' value from the dictionary\n",
    "del myDict[3]\n",
    "\n",
    "# b. Add 'features' in the dictionary\n",
    "myDict[4] = 'features'\n",
    "\n",
    "# c. Fetch the 'data' element from the dictionary and display it in the output\n",
    "data_element = myDict[1]\n",
    "print(data_element)"
   ]
  },
  {
   "cell_type": "markdown",
   "id": "742af8cb",
   "metadata": {},
   "source": [
    "### 3. Create a tuple and add these elements 1, 2, 3, apple, mango in my_tuple.\n"
   ]
  },
  {
   "cell_type": "code",
   "execution_count": 3,
   "id": "b10e5fa4",
   "metadata": {},
   "outputs": [],
   "source": [
    "my_tuple = (1, 2, 3, 'apple', 'mango')"
   ]
  },
  {
   "cell_type": "markdown",
   "id": "5e68acc1",
   "metadata": {},
   "source": [
    "### 4. Create another tuple named numeric_tuple consisting of only integer values 10, 20, 30, 40, 50:\n",
    "##### a. Find the minimum value from the numeric_tuple\n",
    "##### b. Concatenate my_tuple with numeric_tuple and store the result in r1\n",
    "##### c. Duplicate the tuple named my_tuple 2 times and store that in ‘newdupli’\n"
   ]
  },
  {
   "cell_type": "code",
   "execution_count": null,
   "id": "75fb03f2",
   "metadata": {},
   "outputs": [],
   "source": [
    "numeric_tuple = (10, 20, 30, 40, 50)\n",
    "\n",
    "# a. Find the minimum value from the numeric_tuple\n",
    "min_value = min(numeric_tuple)\n",
    "\n",
    "# b. Concatenate 'my_tuple' with 'numeric_tuple' and store the result in 'r1'\n",
    "r1 = my_tuple + numeric_tuple\n",
    "\n",
    "# c. Duplicate the tuple named 'my_tuple' 2 times and store that in 'newdupli'\n",
    "newdupli = my_tuple * 2\n",
    "\n",
    "print(min_value)\n",
    "print(r1)\n",
    "print(newdupli)"
   ]
  },
  {
   "cell_type": "markdown",
   "id": "36f3aa29",
   "metadata": {},
   "source": [
    "#### 5. Create 2 sets with the names set1 and set2, where set1 contains\n",
    "#### {1,2,3,4,5} and set2 contains {2,3,7,6,1}\n",
    "##### Perform the below operation:\n",
    "###### a. set1 union set2\n",
    "###### b. set1 intersection set2\n",
    "###### c. set1 difference set2"
   ]
  },
  {
   "cell_type": "code",
   "execution_count": 1,
   "id": "b28620d4",
   "metadata": {},
   "outputs": [
    {
     "name": "stdout",
     "output_type": "stream",
     "text": [
      "{1, 2, 3, 4, 5, 6, 7}\n",
      "{1, 2, 3}\n",
      "{4, 5}\n"
     ]
    }
   ],
   "source": [
    "set1 = {1, 2, 3, 4, 5}\n",
    "set2 = {2, 3, 7, 6, 1}\n",
    "\n",
    "# a. set1 union set2\n",
    "union_result = set1.union(set2)\n",
    "\n",
    "# b. set1 intersection set2\n",
    "intersection_result = set1.intersection(set2)\n",
    "\n",
    "# c. set1 difference set2\n",
    "difference_result = set1.difference(set2)\n",
    "\n",
    "print(union_result)\n",
    "print(intersection_result)\n",
    "print(difference_result)"
   ]
  },
  {
   "cell_type": "markdown",
   "id": "386b3569",
   "metadata": {},
   "source": [
    "# Assignment2"
   ]
  },
  {
   "cell_type": "markdown",
   "id": "e375121a",
   "metadata": {},
   "source": [
    "### 1.Create a 3x3 matrix array with values ranging from 2 to 10\n",
    "\n"
   ]
  },
  {
   "cell_type": "code",
   "execution_count": 3,
   "id": "447e7c9e",
   "metadata": {},
   "outputs": [],
   "source": [
    "import numpy as np"
   ]
  },
  {
   "cell_type": "code",
   "execution_count": 5,
   "id": "d8a61ebb",
   "metadata": {},
   "outputs": [],
   "source": [
    "arr3_Matrix=np.arange(2,11).reshape(3,3)"
   ]
  },
  {
   "cell_type": "code",
   "execution_count": 6,
   "id": "be4693c8",
   "metadata": {},
   "outputs": [
    {
     "data": {
      "text/plain": [
       "array([[ 2,  3,  4],\n",
       "       [ 5,  6,  7],\n",
       "       [ 8,  9, 10]])"
      ]
     },
     "execution_count": 6,
     "metadata": {},
     "output_type": "execute_result"
    }
   ],
   "source": [
    "arr3_Matrix"
   ]
  },
  {
   "cell_type": "markdown",
   "id": "5e1970b0",
   "metadata": {},
   "source": [
    "### 2. Create a NumPy array having user input values and convert the integer type to the float type of the elements of the array. For instance: Original array [1, 2, 3, 4] Array converted to a float type: [ 1. 2. 3. 4.]"
   ]
  },
  {
   "cell_type": "code",
   "execution_count": 7,
   "id": "d2336bd8",
   "metadata": {},
   "outputs": [
    {
     "name": "stdout",
     "output_type": "stream",
     "text": [
      "Enter values separated by spaces: 2 2 4 5 6 4 8 9 3 \n",
      "Original array: [2 2 4 5 6 4 8 9 3]\n",
      "Array converted to float type: [2. 2. 4. 5. 6. 4. 8. 9. 3.]\n"
     ]
    }
   ],
   "source": [
    "# Taking user input for array values\n",
    "\n",
    "user_input = input(\"Enter values separated by spaces: \")\n",
    "user_values = [int(x) for x in user_input.split()]\n",
    "\n",
    "# Creating NumPy array from user input\n",
    "original_array = np.array(user_values)\n",
    "\n",
    "# Converting integer type to float type\n",
    "float_array = original_array.astype(float)\n",
    "\n",
    "# Displaying the results\n",
    "print(\"Original array:\", original_array)\n",
    "print(\"Array converted to float type:\", float_array)\n"
   ]
  },
  {
   "cell_type": "markdown",
   "id": "70b25ae5",
   "metadata": {},
   "source": [
    "### 3. Write a NumPy program to append values to the end of an array. For instance: Original array: [10, 20, 30] . After that, append values to the end of the array: [10 20 30 40 50 60 70 80 90] "
   ]
  },
  {
   "cell_type": "code",
   "execution_count": 9,
   "id": "3bff5109",
   "metadata": {},
   "outputs": [
    {
     "name": "stdout",
     "output_type": "stream",
     "text": [
      "Original array: [10 20 30]\n",
      "Append_List: [10 20 30 10 20 30 40 50 60 70 80 90]\n"
     ]
    }
   ],
   "source": [
    "myList = np.array([10, 20, 30])\n",
    "new_List=np.array([10,20,30,40,50,60,70,80,90])\n",
    "Append_List=np.append(myList,new_List)\n",
    "print(\"Original array:\", myList)\n",
    "print(\"Append_List:\", Append_List)\n"
   ]
  },
  {
   "cell_type": "markdown",
   "id": "9f1e373f",
   "metadata": {},
   "source": [
    "### 4. Create two NumPy arrays and add the elements of both the arrays and store the result in sumArray.\n",
    " "
   ]
  },
  {
   "cell_type": "code",
   "execution_count": 12,
   "id": "15eafb11",
   "metadata": {},
   "outputs": [
    {
     "name": "stdout",
     "output_type": "stream",
     "text": [
      "Array One: [10 20 30]\n",
      "Array Two: [50 70 20]\n",
      "Sum of the array: [60 90 50]\n"
     ]
    }
   ],
   "source": [
    "myarr1 = np.array([10, 20, 30])\n",
    "myarr2 = np.array([50, 70, 20])\n",
    "Added_array=myarr1+myarr2\n",
    "print(\"Array One:\", myarr1)\n",
    "print(\"Array Two:\", myarr2)\n",
    "print(\"Sum of the array:\", Added_array)\n"
   ]
  },
  {
   "cell_type": "markdown",
   "id": "55cfbfac",
   "metadata": {},
   "source": [
    "### 5. Create a 3x3 array having values from 10-90 (interval of 10) and store that in array1 Perform the following tasks: a. Extract the 1st row from the array b. Extract the last element from the array"
   ]
  },
  {
   "cell_type": "code",
   "execution_count": 17,
   "id": "5136ec20",
   "metadata": {},
   "outputs": [
    {
     "name": "stdout",
     "output_type": "stream",
     "text": [
      "\n",
      "MyArray:\n",
      "[[10 20 30]\n",
      " [40 50 60]\n",
      " [70 80 90]]\n",
      "\n",
      "Extracted 1st row:\n",
      "[10 20 30]\n",
      "\n",
      "Extracted last element:\n",
      "90\n"
     ]
    }
   ],
   "source": [
    "arr1=np.arange(10,91,10).reshape(3,3)\n",
    "print(\"\\nMyArray:\")\n",
    "print(arr1) \n",
    "\n",
    "first_row = arr1[0, :]\n",
    "\n",
    "# b. Extract the last element from the array\n",
    "last_element = arr1[-1, -1]\n",
    "\n",
    "# Display the results\n",
    "print(\"\\nExtracted 1st row:\")\n",
    "print(first_row)\n",
    "\n",
    "print(\"\\nExtracted last element:\")\n",
    "print(last_element)"
   ]
  },
  {
   "cell_type": "code",
   "execution_count": null,
   "id": "7a02341f",
   "metadata": {},
   "outputs": [],
   "source": []
  }
 ],
 "metadata": {
  "kernelspec": {
   "display_name": "Python 3 (ipykernel)",
   "language": "python",
   "name": "python3"
  },
  "language_info": {
   "codemirror_mode": {
    "name": "ipython",
    "version": 3
   },
   "file_extension": ".py",
   "mimetype": "text/x-python",
   "name": "python",
   "nbconvert_exporter": "python",
   "pygments_lexer": "ipython3",
   "version": "3.11.5"
  }
 },
 "nbformat": 4,
 "nbformat_minor": 5
}
